{
 "cells": [
  {
   "cell_type": "code",
   "execution_count": 2,
   "id": "973ff7f6",
   "metadata": {},
   "outputs": [],
   "source": [
    "#function copy\n",
    "\n",
    "def welcome():\n",
    "    return 'i m coding very good'"
   ]
  },
  {
   "cell_type": "code",
   "execution_count": 3,
   "id": "45dea294",
   "metadata": {},
   "outputs": [
    {
     "data": {
      "text/plain": [
       "'i m coding very good'"
      ]
     },
     "execution_count": 3,
     "metadata": {},
     "output_type": "execute_result"
    }
   ],
   "source": [
    "welcome()"
   ]
  },
  {
   "cell_type": "code",
   "execution_count": 6,
   "id": "56e3d36c",
   "metadata": {},
   "outputs": [],
   "source": [
    "wel=welcome()"
   ]
  },
  {
   "cell_type": "code",
   "execution_count": 7,
   "id": "496f2d5c",
   "metadata": {},
   "outputs": [
    {
     "data": {
      "text/plain": [
       "'i m coding very good'"
      ]
     },
     "execution_count": 7,
     "metadata": {},
     "output_type": "execute_result"
    }
   ],
   "source": [
    "wel"
   ]
  },
  {
   "cell_type": "code",
   "execution_count": 9,
   "id": "0e4b3183",
   "metadata": {},
   "outputs": [],
   "source": [
    "del welcome"
   ]
  },
  {
   "cell_type": "code",
   "execution_count": 11,
   "id": "eeea2487",
   "metadata": {},
   "outputs": [
    {
     "data": {
      "text/plain": [
       "'i m coding very good'"
      ]
     },
     "execution_count": 11,
     "metadata": {},
     "output_type": "execute_result"
    }
   ],
   "source": [
    "wel"
   ]
  },
  {
   "cell_type": "code",
   "execution_count": 12,
   "id": "e634b644",
   "metadata": {},
   "outputs": [],
   "source": [
    "##closure\n",
    "\n",
    "\n",
    "def fun1():\n",
    "    \n",
    "    a='i m a good coder'\n",
    "    \n",
    "    def fun2():\n",
    "        print ('ya u r')\n",
    "        \n",
    "        print(a)\n",
    "        \n",
    "        print ('u r also a good trader')\n",
    "    return fun2()    "
   ]
  },
  {
   "cell_type": "code",
   "execution_count": 13,
   "id": "d7200278",
   "metadata": {},
   "outputs": [
    {
     "name": "stdout",
     "output_type": "stream",
     "text": [
      "ya u r\n",
      "i m a good coder\n",
      "u r also a good trader\n"
     ]
    }
   ],
   "source": [
    "fun1()"
   ]
  },
  {
   "cell_type": "code",
   "execution_count": 14,
   "id": "fad2c24e",
   "metadata": {},
   "outputs": [],
   "source": [
    "##closure\n",
    "\n",
    "def fun1(fun):\n",
    "    \n",
    "    def fun2():\n",
    "        print ('ya u r')\n",
    "        fun(\"i m a good coder \")\n",
    "        print ('u r also a good trader')\n",
    "    return fun2()    "
   ]
  },
  {
   "cell_type": "code",
   "execution_count": 16,
   "id": "c443f51a",
   "metadata": {},
   "outputs": [
    {
     "name": "stdout",
     "output_type": "stream",
     "text": [
      "ya u r\n",
      "i m a good coder \n",
      "u r also a good trader\n"
     ]
    }
   ],
   "source": [
    "fun1(print)"
   ]
  },
  {
   "cell_type": "code",
   "execution_count": 17,
   "id": "6c9e40ef",
   "metadata": {},
   "outputs": [],
   "source": [
    "##closure & initial decoratores\n",
    "\n",
    "def fun1(fun):\n",
    "    \n",
    "    def fun2():\n",
    "        print ('ya u r')\n",
    "        print(fun([1,2,3,4,5,6,7]))                           #function\n",
    "        print ('u r also a good trader')\n",
    "    return fun2()    "
   ]
  },
  {
   "cell_type": "code",
   "execution_count": 18,
   "id": "aeb0e68b",
   "metadata": {},
   "outputs": [
    {
     "name": "stdout",
     "output_type": "stream",
     "text": [
      "ya u r\n",
      "7\n",
      "u r also a good trader\n"
     ]
    }
   ],
   "source": [
    "fun1(len)"
   ]
  },
  {
   "cell_type": "code",
   "execution_count": 24,
   "id": "a652eb1b",
   "metadata": {},
   "outputs": [],
   "source": [
    "## decoratores\n",
    "\n",
    "def fun1(fun):\n",
    "    \n",
    "    def fun2():\n",
    "        print ('ya u r')\n",
    "        fun()                          \n",
    "        print ('u r also a good trader')\n",
    "    return fun2()    "
   ]
  },
  {
   "cell_type": "code",
   "execution_count": 25,
   "id": "fb4c3016",
   "metadata": {},
   "outputs": [],
   "source": [
    "def bharma():\n",
    "    print('smit')"
   ]
  },
  {
   "cell_type": "code",
   "execution_count": 26,
   "id": "9e2d4aaf",
   "metadata": {},
   "outputs": [
    {
     "name": "stdout",
     "output_type": "stream",
     "text": [
      "ya u r\n",
      "smit\n",
      "u r also a good trader\n"
     ]
    }
   ],
   "source": [
    "fun1(bharma)"
   ]
  },
  {
   "cell_type": "markdown",
   "id": "009bd509",
   "metadata": {},
   "source": [
    " # modin   \n",
    " ##### make the panda process fast\n",
    " "
   ]
  },
  {
   "cell_type": "code",
   "execution_count": null,
   "id": "6a7251d1",
   "metadata": {},
   "outputs": [],
   "source": [
    "!pip install modin[ray]"
   ]
  },
  {
   "cell_type": "code",
   "execution_count": null,
   "id": "53dc6286",
   "metadata": {},
   "outputs": [],
   "source": []
  }
 ],
 "metadata": {
  "kernelspec": {
   "display_name": "Python 3",
   "language": "python",
   "name": "python3"
  },
  "language_info": {
   "codemirror_mode": {
    "name": "ipython",
    "version": 3
   },
   "file_extension": ".py",
   "mimetype": "text/x-python",
   "name": "python",
   "nbconvert_exporter": "python",
   "pygments_lexer": "ipython3",
   "version": "3.8.8"
  }
 },
 "nbformat": 4,
 "nbformat_minor": 5
}
