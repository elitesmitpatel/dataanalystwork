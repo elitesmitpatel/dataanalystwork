{
 "cells": [
  {
   "cell_type": "code",
   "execution_count": 1,
   "id": "a97c87ac",
   "metadata": {},
   "outputs": [],
   "source": [
    "class A:\n",
    "    def method1(self):\n",
    "        print('classs A printed')"
   ]
  },
  {
   "cell_type": "code",
   "execution_count": 20,
   "id": "b8ccf5b4",
   "metadata": {},
   "outputs": [],
   "source": [
    "class B(A):\n",
    "    def method1(self):\n",
    "        print('classs B printed')\n",
    "    def method2(self):\n",
    "        print('classs B2 printed')   "
   ]
  },
  {
   "cell_type": "code",
   "execution_count": 15,
   "id": "a87aaebf",
   "metadata": {},
   "outputs": [],
   "source": [
    "class C(A):\n",
    "    def method1(self):\n",
    "        print('classs C printed')"
   ]
  },
  {
   "cell_type": "code",
   "execution_count": 21,
   "id": "dc7fcd8a",
   "metadata": {},
   "outputs": [],
   "source": [
    "class D(B,C):\n",
    "    def method1(self):\n",
    "        print('classs D printed')"
   ]
  },
  {
   "cell_type": "code",
   "execution_count": 23,
   "id": "c97e74ca",
   "metadata": {},
   "outputs": [],
   "source": [
    "d=D()"
   ]
  },
  {
   "cell_type": "code",
   "execution_count": 18,
   "id": "440fddb2",
   "metadata": {},
   "outputs": [
    {
     "name": "stdout",
     "output_type": "stream",
     "text": [
      "classs D printed\n"
     ]
    }
   ],
   "source": [
    "d.method1()"
   ]
  },
  {
   "cell_type": "code",
   "execution_count": 24,
   "id": "297f888b",
   "metadata": {},
   "outputs": [
    {
     "name": "stdout",
     "output_type": "stream",
     "text": [
      "classs B2 printed\n"
     ]
    }
   ],
   "source": [
    "d.method2()"
   ]
  },
  {
   "cell_type": "code",
   "execution_count": null,
   "id": "84123d29",
   "metadata": {},
   "outputs": [],
   "source": [
    "    "
   ]
  }
 ],
 "metadata": {
  "kernelspec": {
   "display_name": "Python 3",
   "language": "python",
   "name": "python3"
  },
  "language_info": {
   "codemirror_mode": {
    "name": "ipython",
    "version": 3
   },
   "file_extension": ".py",
   "mimetype": "text/x-python",
   "name": "python",
   "nbconvert_exporter": "python",
   "pygments_lexer": "ipython3",
   "version": "3.8.8"
  }
 },
 "nbformat": 4,
 "nbformat_minor": 5
}
