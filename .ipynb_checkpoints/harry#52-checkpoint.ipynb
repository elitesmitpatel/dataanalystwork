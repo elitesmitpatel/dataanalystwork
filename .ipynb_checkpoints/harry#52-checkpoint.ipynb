{
 "cells": [
  {
   "cell_type": "markdown",
   "id": "538ee714",
   "metadata": {},
   "source": [
    "# class  and obj"
   ]
  },
  {
   "cell_type": "code",
   "execution_count": 5,
   "id": "b3772f84",
   "metadata": {},
   "outputs": [
    {
     "name": "stdout",
     "output_type": "stream",
     "text": [
      "maths\n"
     ]
    }
   ],
   "source": [
    "class Student:                      #class define \n",
    "    pass                             # for passing the the class\n",
    "\n",
    "smit = Student()               #object 1\n",
    "asmit = Student()              #objeect2 \n",
    "\n",
    "smit.subject=\"maths\"                   #obj k instance variable \n",
    "smit.marks= 90\n",
    "asmit.std= 'phd'\n",
    "\n",
    "print(smit.subject)\n",
    "\n"
   ]
  },
  {
   "cell_type": "markdown",
   "id": "1cf4f4ee",
   "metadata": {},
   "source": [
    "# instance and class variable "
   ]
  },
  {
   "cell_type": "code",
   "execution_count": 7,
   "id": "a4ebfb21",
   "metadata": {},
   "outputs": [
    {
     "name": "stdout",
     "output_type": "stream",
     "text": [
      "maths 8\n"
     ]
    }
   ],
   "source": [
    "class Student:                  #class define \n",
    "    books=8                                 ## globally class mei define kiya sab use kar sakte hai \n",
    "                                            ## par change class se hi hoga \n",
    "    pass                   # for passing the the class\n",
    "\n",
    "smit = Student()               #object 1\n",
    "asmit = Student()              #objeect2 \n",
    "\n",
    "smit.subject=\"maths\"                   #obj k instance variable \n",
    "smit.marks= 90\n",
    "asmit.std= 'phd'\n",
    "asmit.subject= 7\n",
    "\n",
    "print(smit.subject,asmit.books)\n"
   ]
  },
  {
   "cell_type": "code",
   "execution_count": 9,
   "id": "85b24e8a",
   "metadata": {},
   "outputs": [
    {
     "name": "stdout",
     "output_type": "stream",
     "text": [
      "8\n"
     ]
    }
   ],
   "source": [
    "print(Student.books)"
   ]
  },
  {
   "cell_type": "code",
   "execution_count": 10,
   "id": "b534322e",
   "metadata": {},
   "outputs": [],
   "source": [
    "smit.books=9"
   ]
  },
  {
   "cell_type": "code",
   "execution_count": 12,
   "id": "f6ae38d8",
   "metadata": {},
   "outputs": [
    {
     "name": "stdout",
     "output_type": "stream",
     "text": [
      "9\n"
     ]
    }
   ],
   "source": [
    "print(smit.books)"
   ]
  },
  {
   "cell_type": "code",
   "execution_count": 13,
   "id": "3b42a489",
   "metadata": {},
   "outputs": [
    {
     "name": "stdout",
     "output_type": "stream",
     "text": [
      "8\n"
     ]
    }
   ],
   "source": [
    "print(asmit.books)       #no cange gllobally "
   ]
  },
  {
   "cell_type": "code",
   "execution_count": 14,
   "id": "3fff4f3b",
   "metadata": {},
   "outputs": [
    {
     "name": "stdout",
     "output_type": "stream",
     "text": [
      "8\n"
     ]
    }
   ],
   "source": [
    "print(Student.books)          #no change globallly "
   ]
  },
  {
   "cell_type": "code",
   "execution_count": 16,
   "id": "ee816fcd",
   "metadata": {},
   "outputs": [],
   "source": [
    "Student.books=9               #global changed"
   ]
  },
  {
   "cell_type": "code",
   "execution_count": 17,
   "id": "6de85c75",
   "metadata": {},
   "outputs": [
    {
     "name": "stdout",
     "output_type": "stream",
     "text": [
      "9\n"
     ]
    }
   ],
   "source": [
    "print(Student.books) "
   ]
  },
  {
   "cell_type": "code",
   "execution_count": 18,
   "id": "544ac3cc",
   "metadata": {},
   "outputs": [
    {
     "name": "stdout",
     "output_type": "stream",
     "text": [
      "9\n"
     ]
    }
   ],
   "source": [
    "print(asmit.books)"
   ]
  },
  {
   "cell_type": "code",
   "execution_count": 20,
   "id": "8b125d87",
   "metadata": {},
   "outputs": [
    {
     "name": "stdout",
     "output_type": "stream",
     "text": [
      "{'subject': 'maths', 'marks': 90, 'books': 9}\n"
     ]
    }
   ],
   "source": [
    "print(smit.__dict__)                #ek alag class variable banaa diya smit mei,but globally nahi "
   ]
  },
  {
   "cell_type": "markdown",
   "id": "03a8dceb",
   "metadata": {},
   "source": [
    "#  __init__  & self"
   ]
  },
  {
   "cell_type": "code",
   "execution_count": 30,
   "id": "57100629",
   "metadata": {},
   "outputs": [],
   "source": [
    "#self\n",
    "\n",
    "class Employee:\n",
    "    pass\n",
    "    \n",
    "#     def __init__(self,asalary,apost,aid):\n",
    "#         self.salary=asalary\n",
    "#         self.post=apost\n",
    "#         self.id=aid\n",
    "    \n",
    "    \n",
    "    \n",
    "    \n",
    "    def details(self):            #method kete hai isse\n",
    "        return \"yes\"\n",
    "\n",
    "smit = Employee()               \n",
    "asmit = Employee()              \n",
    "\n",
    "\n",
    "\n",
    "smit.salary=500000                   \n",
    "smit.post= 1 \n",
    "smit.id=2\n",
    "\n",
    "asmit.post= 'phd'\n",
    "asmit.salary= 7\n",
    "asmit.id= 3"
   ]
  },
  {
   "cell_type": "code",
   "execution_count": 29,
   "id": "2b8a3e30",
   "metadata": {},
   "outputs": [
    {
     "name": "stdout",
     "output_type": "stream",
     "text": [
      "yes\n"
     ]
    }
   ],
   "source": [
    "print(smit.details())"
   ]
  },
  {
   "cell_type": "code",
   "execution_count": 31,
   "id": "b9142642",
   "metadata": {},
   "outputs": [],
   "source": [
    "#init\n",
    "\n",
    "\n",
    "class Employee:\n",
    "    pass\n",
    "   \n",
    "    \n",
    "    def __init__(self,asalary,apost,aid):              #init define kiya\n",
    "        self.salary=asalary\n",
    "        self.post=apost\n",
    "        self.id=aid\n",
    "    \n",
    "    \n",
    "    \n",
    "    \n",
    "    def details(self):            #method kete hai isse\n",
    "        return \"yes\"\n",
    "\n",
    "smit = Employee(500000,1,2)    "
   ]
  },
  {
   "cell_type": "code",
   "execution_count": 32,
   "id": "1499161d",
   "metadata": {},
   "outputs": [
    {
     "name": "stdout",
     "output_type": "stream",
     "text": [
      "500000\n"
     ]
    }
   ],
   "source": [
    "print(smit.salary)"
   ]
  },
  {
   "cell_type": "code",
   "execution_count": 33,
   "id": "bc4e4b99",
   "metadata": {},
   "outputs": [
    {
     "name": "stdout",
     "output_type": "stream",
     "text": [
      "2\n"
     ]
    }
   ],
   "source": [
    "print(smit.id)"
   ]
  },
  {
   "cell_type": "code",
   "execution_count": 35,
   "id": "e6c65c98",
   "metadata": {},
   "outputs": [
    {
     "name": "stdout",
     "output_type": "stream",
     "text": [
      "yes\n"
     ]
    }
   ],
   "source": [
    "print(smit.details())"
   ]
  },
  {
   "cell_type": "markdown",
   "id": "d7ee0ad4",
   "metadata": {},
   "source": [
    "# class method"
   ]
  },
  {
   "cell_type": "code",
   "execution_count": 1,
   "id": "0fea2ba2",
   "metadata": {},
   "outputs": [
    {
     "name": "stdout",
     "output_type": "stream",
     "text": [
      "99\n"
     ]
    }
   ],
   "source": [
    "\n",
    "class Employee:\n",
    "    books = 55 \n",
    "    \n",
    "    def __init__(self,asalary,apost,aid):              \n",
    "        self.salary=asalary\n",
    "        self.post=apost\n",
    "        self.id=aid\n",
    "    \n",
    "    \n",
    "    \n",
    "    \n",
    "    def details(self):            #method kehe hai isse\n",
    "        return \"yes\"\n",
    "    \n",
    "    @classmethod\n",
    "    def newbook(cls,newentry):\n",
    "        cls.books=newentry\n",
    "    \n",
    "\n",
    "smit = Employee(500000,1,2)\n",
    "asmit=Employee(60000,3,4)\n",
    "\n",
    "smit.newbook(99)                   #instance call\n",
    "print(smit.books)"
   ]
  },
  {
   "cell_type": "code",
   "execution_count": null,
   "id": "a56e1e79",
   "metadata": {},
   "outputs": [],
   "source": []
  }
 ],
 "metadata": {
  "kernelspec": {
   "display_name": "Python 3",
   "language": "python",
   "name": "python3"
  },
  "language_info": {
   "codemirror_mode": {
    "name": "ipython",
    "version": 3
   },
   "file_extension": ".py",
   "mimetype": "text/x-python",
   "name": "python",
   "nbconvert_exporter": "python",
   "pygments_lexer": "ipython3",
   "version": "3.8.8"
  }
 },
 "nbformat": 4,
 "nbformat_minor": 5
}
