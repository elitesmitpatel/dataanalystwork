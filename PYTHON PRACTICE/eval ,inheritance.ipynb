{
 "cells": [
  {
   "cell_type": "code",
   "execution_count": 1,
   "id": "b2316a5b",
   "metadata": {},
   "outputs": [],
   "source": [
    "class A:\n",
    "    def method1(self):\n",
    "        print('classs A printed')"
   ]
  },
  {
   "cell_type": "code",
   "execution_count": 20,
   "id": "499f9815",
   "metadata": {},
   "outputs": [],
   "source": [
    "class B(A):\n",
    "    def method1(self):\n",
    "        print('classs B printed')\n",
    "    def method2(self):\n",
    "        print('classs B2 printed')   "
   ]
  },
  {
   "cell_type": "code",
   "execution_count": 15,
   "id": "1e9faa0f",
   "metadata": {},
   "outputs": [],
   "source": [
    "class C(A):\n",
    "    def method1(self):\n",
    "        print('classs C printed')"
   ]
  },
  {
   "cell_type": "code",
   "execution_count": 21,
   "id": "57995a1e",
   "metadata": {},
   "outputs": [],
   "source": [
    "class D(B,C):\n",
    "    def method1(self):\n",
    "        print('classs D printed')"
   ]
  },
  {
   "cell_type": "code",
   "execution_count": 23,
   "id": "5d2745dd",
   "metadata": {},
   "outputs": [],
   "source": [
    "d=D()                            #instance created "
   ]
  },
  {
   "cell_type": "code",
   "execution_count": 18,
   "id": "b2f1b83e",
   "metadata": {},
   "outputs": [
    {
     "name": "stdout",
     "output_type": "stream",
     "text": [
      "classs D printed\n"
     ]
    }
   ],
   "source": [
    "d.method1()"
   ]
  },
  {
   "cell_type": "code",
   "execution_count": 24,
   "id": "713642a6",
   "metadata": {},
   "outputs": [
    {
     "name": "stdout",
     "output_type": "stream",
     "text": [
      "classs B2 printed\n"
     ]
    }
   ],
   "source": [
    "d.method2()                                 # method 2  called "
   ]
  },
  {
   "cell_type": "code",
   "execution_count": 25,
   "id": "bf6166a7",
   "metadata": {},
   "outputs": [
    {
     "name": "stdout",
     "output_type": "stream",
     "text": [
      "classs B printed\n"
     ]
    }
   ],
   "source": [
    "B.method1(d)                           #B.=parent , parent class accessed by object d "
   ]
  },
  {
   "cell_type": "markdown",
   "id": "c8e23c70",
   "metadata": {},
   "source": [
    "# python eval function"
   ]
  },
  {
   "cell_type": "code",
   "execution_count": 26,
   "id": "57c7bb18",
   "metadata": {},
   "outputs": [],
   "source": [
    "# eval funtion can compile any code written in string\n",
    "# it change the string in the byte code.\n",
    "# And after  parsing the result is calculated "
   ]
  },
  {
   "cell_type": "code",
   "execution_count": 27,
   "id": "cafe8af6",
   "metadata": {},
   "outputs": [
    {
     "data": {
      "text/plain": [
       "6.98936170212766"
      ]
     },
     "execution_count": 27,
     "metadata": {},
     "output_type": "execute_result"
    }
   ],
   "source": [
    "eval('3+5*75/94')"
   ]
  },
  {
   "cell_type": "code",
   "execution_count": null,
   "id": "aae2cf07",
   "metadata": {},
   "outputs": [],
   "source": []
  }
 ],
 "metadata": {
  "kernelspec": {
   "display_name": "Python 3",
   "language": "python",
   "name": "python3"
  },
  "language_info": {
   "codemirror_mode": {
    "name": "ipython",
    "version": 3
   },
   "file_extension": ".py",
   "mimetype": "text/x-python",
   "name": "python",
   "nbconvert_exporter": "python",
   "pygments_lexer": "ipython3",
   "version": "3.8.8"
  }
 },
 "nbformat": 4,
 "nbformat_minor": 5
}
