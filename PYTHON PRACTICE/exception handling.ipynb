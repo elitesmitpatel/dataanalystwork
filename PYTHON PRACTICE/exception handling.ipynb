{
 "cells": [
  {
   "cell_type": "code",
   "execution_count": 4,
   "id": "770ece21",
   "metadata": {},
   "outputs": [
    {
     "name": "stdout",
     "output_type": "stream",
     "text": [
      "name 'b' is not defined\n",
      "u r a good coder\n"
     ]
    }
   ],
   "source": [
    "#exception where error can occur\n",
    "\n",
    "try:\n",
    "    a=b\n",
    "                                        \n",
    "except Exception as ex:\n",
    "    print(ex)\n",
    "#print('u r a good coder')\n",
    "                         \n"
   ]
  },
  {
   "cell_type": "code",
   "execution_count": 10,
   "id": "3ad6a988",
   "metadata": {},
   "outputs": [
    {
     "ename": "NameError",
     "evalue": "name 'b' is not defined",
     "output_type": "error",
     "traceback": [
      "\u001b[1;31m---------------------------------------------------------------------------\u001b[0m",
      "\u001b[1;31mNameError\u001b[0m                                 Traceback (most recent call last)",
      "\u001b[1;32m<ipython-input-10-96bf1d35c434>\u001b[0m in \u001b[0;36m<module>\u001b[1;34m\u001b[0m\n\u001b[1;32m----> 1\u001b[1;33m \u001b[0ma\u001b[0m\u001b[1;33m=\u001b[0m\u001b[0mb\u001b[0m\u001b[1;33m\u001b[0m\u001b[1;33m\u001b[0m\u001b[0m\n\u001b[0m",
      "\u001b[1;31mNameError\u001b[0m: name 'b' is not defined"
     ]
    }
   ],
   "source": [
    "a=b "
   ]
  },
  {
   "cell_type": "code",
   "execution_count": 5,
   "id": "b34bbef2",
   "metadata": {},
   "outputs": [
    {
     "name": "stdout",
     "output_type": "stream",
     "text": [
      "give number  1 32\n",
      "give number  2 456866\n",
      "7.004241944027352e-05\n",
      "14619712\n",
      "-456834\n",
      "except or else will be printed not both \n",
      "this block will definetly printed\n"
     ]
    }
   ],
   "source": [
    "try:\n",
    "    #code block where exception can occur\n",
    "    a=int(input('give number  1 '))\n",
    "    b=int(input('give number  2 '))\n",
    "    c=a/b\n",
    "    d=a*b\n",
    "    e=a-b\n",
    "    print(c)\n",
    "    print(d)\n",
    "    print(e)\n",
    "except NameError:\n",
    "    print('varible not defined')\n",
    "except TypeError:\n",
    "    print('dsate tpe not simliar')\n",
    "except Exception as ex:\n",
    "    print(ex)\n",
    "else:\n",
    "    print('except or else will be printed not both ')\n",
    "finally:\n",
    "    print('this block will definetly printed')\n",
    "\n",
    "    "
   ]
  },
  {
   "cell_type": "code",
   "execution_count": null,
   "id": "ad21c591",
   "metadata": {},
   "outputs": [],
   "source": []
  },
  {
   "cell_type": "markdown",
   "id": "52051c52",
   "metadata": {},
   "source": [
    "# inhertance oop"
   ]
  },
  {
   "cell_type": "code",
   "execution_count": 11,
   "id": "bb80692a",
   "metadata": {},
   "outputs": [],
   "source": [
    "class Car():\n",
    "    def __init__(self,tyres,windows,enginetype):\n",
    "        self.tyres=tyres\n",
    "        self.windows=windows\n",
    "        self.enginetype=enginetype\n",
    "    def drive(self):\n",
    "        print ('the driver drives the car')"
   ]
  },
  {
   "cell_type": "code",
   "execution_count": 12,
   "id": "97a7da98",
   "metadata": {},
   "outputs": [],
   "source": [
    "car= Car(4,4,\"diesel\")"
   ]
  },
  {
   "cell_type": "code",
   "execution_count": 13,
   "id": "62a5166e",
   "metadata": {},
   "outputs": [
    {
     "data": {
      "text/plain": [
       "4"
      ]
     },
     "execution_count": 13,
     "metadata": {},
     "output_type": "execute_result"
    }
   ],
   "source": [
    "car.tyres"
   ]
  },
  {
   "cell_type": "code",
   "execution_count": 14,
   "id": "430230e0",
   "metadata": {},
   "outputs": [
    {
     "data": {
      "text/plain": [
       "4"
      ]
     },
     "execution_count": 14,
     "metadata": {},
     "output_type": "execute_result"
    }
   ],
   "source": [
    "car.windows"
   ]
  },
  {
   "cell_type": "code",
   "execution_count": 16,
   "id": "8a1a2f28",
   "metadata": {},
   "outputs": [],
   "source": [
    "class audi(Car):\n",
    "    def __init__(self,tyres,windows,enginetype,ai):\n",
    "        super().__init__(tyres,windows,enginetype)\n",
    "        self.ai=ai"
   ]
  },
  {
   "cell_type": "code",
   "execution_count": 17,
   "id": "429ed9df",
   "metadata": {},
   "outputs": [],
   "source": [
    "q7=audi(3,4,'diesel',True)"
   ]
  },
  {
   "cell_type": "code",
   "execution_count": 18,
   "id": "48181965",
   "metadata": {},
   "outputs": [
    {
     "data": {
      "text/plain": [
       "True"
      ]
     },
     "execution_count": 18,
     "metadata": {},
     "output_type": "execute_result"
    }
   ],
   "source": [
    "q7.ai"
   ]
  },
  {
   "cell_type": "code",
   "execution_count": 20,
   "id": "c2737326",
   "metadata": {},
   "outputs": [
    {
     "data": {
      "text/plain": [
       "3"
      ]
     },
     "execution_count": 20,
     "metadata": {},
     "output_type": "execute_result"
    }
   ],
   "source": [
    "q7.tyres"
   ]
  },
  {
   "cell_type": "markdown",
   "id": "e559135d",
   "metadata": {},
   "source": [
    "# Assertion error\n",
    "## we use mosttly too check  wheather the condtion which we are passing is right or wrong"
   ]
  },
  {
   "cell_type": "code",
   "execution_count": 21,
   "id": "6cd1e8a5",
   "metadata": {},
   "outputs": [],
   "source": [
    "a=10 "
   ]
  },
  {
   "cell_type": "code",
   "execution_count": 26,
   "id": "288ad5f7",
   "metadata": {},
   "outputs": [
    {
     "ename": "AssertionError",
     "evalue": "no its wrong",
     "output_type": "error",
     "traceback": [
      "\u001b[1;31m---------------------------------------------------------------------------\u001b[0m",
      "\u001b[1;31mAssertionError\u001b[0m                            Traceback (most recent call last)",
      "\u001b[1;32m<ipython-input-26-fb2ff6624f34>\u001b[0m in \u001b[0;36m<module>\u001b[1;34m\u001b[0m\n\u001b[1;32m----> 1\u001b[1;33m \u001b[1;32massert\u001b[0m \u001b[0ma\u001b[0m\u001b[1;33m>\u001b[0m\u001b[1;36m20\u001b[0m\u001b[1;33m,\u001b[0m\u001b[1;34m'no its wrong'\u001b[0m\u001b[1;33m\u001b[0m\u001b[1;33m\u001b[0m\u001b[0m\n\u001b[0m",
      "\u001b[1;31mAssertionError\u001b[0m: no its wrong"
     ]
    }
   ],
   "source": [
    "assert a>20,'no its wrong'"
   ]
  },
  {
   "cell_type": "code",
   "execution_count": 34,
   "id": "95a8ab2e",
   "metadata": {},
   "outputs": [
    {
     "name": "stdout",
     "output_type": "stream",
     "text": [
      "write even number77\n",
      "please enter even number\n"
     ]
    }
   ],
   "source": [
    "try:\n",
    "    a=int(input('write even number'))\n",
    "    assert a%2==0\n",
    "    print('numer is even')\n",
    "except AssertionError:\n",
    "    print('please enter even number')"
   ]
  },
  {
   "cell_type": "code",
   "execution_count": null,
   "id": "f6d2a312",
   "metadata": {},
   "outputs": [],
   "source": [
    "\n"
   ]
  }
 ],
 "metadata": {
  "kernelspec": {
   "display_name": "Python 3",
   "language": "python",
   "name": "python3"
  },
  "language_info": {
   "codemirror_mode": {
    "name": "ipython",
    "version": 3
   },
   "file_extension": ".py",
   "mimetype": "text/x-python",
   "name": "python",
   "nbconvert_exporter": "python",
   "pygments_lexer": "ipython3",
   "version": "3.8.8"
  }
 },
 "nbformat": 4,
 "nbformat_minor": 5
}
