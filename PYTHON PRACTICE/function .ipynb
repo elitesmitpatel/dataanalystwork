{
 "cells": [
  {
   "cell_type": "code",
   "execution_count": 14,
   "id": "444b2412",
   "metadata": {},
   "outputs": [
    {
     "name": "stdout",
     "output_type": "stream",
     "text": [
      "odd\n"
     ]
    }
   ],
   "source": [
    "num = 25 \n",
    "\n",
    "if num/2==0: \n",
    "\n",
    "    print(\"even\")\n",
    "else:\n",
    "\n",
    "    print(\"odd\")"
   ]
  },
  {
   "cell_type": "code",
   "execution_count": 31,
   "id": "ef05bc05",
   "metadata": {},
   "outputs": [],
   "source": [
    "def salary(num):\n",
    "    if num%2==0: \n",
    "\n",
    "        print(\"even\")\n",
    "    \n",
    "    else:\n",
    "    \n",
    "        print(\"odd\")\n"
   ]
  },
  {
   "cell_type": "code",
   "execution_count": 33,
   "id": "6c36c7dc",
   "metadata": {},
   "outputs": [
    {
     "data": {
      "text/plain": [
       "25"
      ]
     },
     "execution_count": 33,
     "metadata": {},
     "output_type": "execute_result"
    }
   ],
   "source": [
    "num"
   ]
  },
  {
   "cell_type": "code",
   "execution_count": 37,
   "id": "1202c25f",
   "metadata": {},
   "outputs": [
    {
     "name": "stdout",
     "output_type": "stream",
     "text": [
      "even\n"
     ]
    }
   ],
   "source": [
    "salary(78)"
   ]
  },
  {
   "cell_type": "code",
   "execution_count": 48,
   "id": "a753135b",
   "metadata": {},
   "outputs": [],
   "source": [
    "#print and return \n",
    "def were():\n",
    "    return('6+ lakh package')"
   ]
  },
  {
   "cell_type": "code",
   "execution_count": 49,
   "id": "61334d81",
   "metadata": {},
   "outputs": [
    {
     "data": {
      "text/plain": [
       "'6+ lakh package'"
      ]
     },
     "execution_count": 49,
     "metadata": {},
     "output_type": "execute_result"
    }
   ],
   "source": [
    "were()"
   ]
  },
  {
   "cell_type": "code",
   "execution_count": 50,
   "id": "0bafbc14",
   "metadata": {},
   "outputs": [],
   "source": [
    "val= were()"
   ]
  },
  {
   "cell_type": "code",
   "execution_count": 51,
   "id": "1073338a",
   "metadata": {},
   "outputs": [
    {
     "name": "stdout",
     "output_type": "stream",
     "text": [
      "6+ lakh package\n"
     ]
    }
   ],
   "source": [
    "print(val)"
   ]
  },
  {
   "cell_type": "code",
   "execution_count": 55,
   "id": "9ea20dc6",
   "metadata": {},
   "outputs": [],
   "source": [
    "# arg kwargs\n",
    "\n",
    "def check(odd,even =2):\n",
    "    print('first number is od {} secoond number is even {}'.format(odd,even))"
   ]
  },
  {
   "cell_type": "code",
   "execution_count": 56,
   "id": "58f2a244",
   "metadata": {},
   "outputs": [
    {
     "name": "stdout",
     "output_type": "stream",
     "text": [
      "first number is od 42 secoond number is even 2\n"
     ]
    }
   ],
   "source": [
    "check (42)"
   ]
  },
  {
   "cell_type": "code",
   "execution_count": 62,
   "id": "3fa3c4c2",
   "metadata": {},
   "outputs": [],
   "source": [
    "lst =[1,2,3,4,5,6,7]"
   ]
  },
  {
   "cell_type": "code",
   "execution_count": 66,
   "id": "5d3b71f6",
   "metadata": {},
   "outputs": [],
   "source": [
    "def oddeven(lst):\n",
    "    odd=0\n",
    "    even=0\n",
    "    for i in lst:\n",
    "        if i%2==0:\n",
    "            even=even +1\n",
    "        else:\n",
    "            odd= odd + 1\n",
    "    return even,odd            \n",
    "        \n",
    "        \n"
   ]
  },
  {
   "cell_type": "code",
   "execution_count": 67,
   "id": "4944aeb0",
   "metadata": {},
   "outputs": [
    {
     "data": {
      "text/plain": [
       "(3, 4)"
      ]
     },
     "execution_count": 67,
     "metadata": {},
     "output_type": "execute_result"
    }
   ],
   "source": [
    "oddeven(lst)"
   ]
  },
  {
   "cell_type": "markdown",
   "id": "2028a85b",
   "metadata": {},
   "source": [
    "# lambda functon "
   ]
  },
  {
   "cell_type": "code",
   "execution_count": 6,
   "id": "c209960a",
   "metadata": {},
   "outputs": [],
   "source": [
    "def add(a,b):\n",
    "    \n",
    "    return a+b"
   ]
  },
  {
   "cell_type": "code",
   "execution_count": 8,
   "id": "67c00cda",
   "metadata": {},
   "outputs": [
    {
     "data": {
      "text/plain": [
       "4"
      ]
     },
     "execution_count": 8,
     "metadata": {},
     "output_type": "execute_result"
    }
   ],
   "source": [
    "add(2,2)"
   ]
  },
  {
   "cell_type": "code",
   "execution_count": 10,
   "id": "ce7076ec",
   "metadata": {},
   "outputs": [],
   "source": [
    "add= lambda a,b:a+b\n"
   ]
  },
  {
   "cell_type": "code",
   "execution_count": 11,
   "id": "d38ab940",
   "metadata": {},
   "outputs": [
    {
     "data": {
      "text/plain": [
       "777777"
      ]
     },
     "execution_count": 11,
     "metadata": {},
     "output_type": "execute_result"
    }
   ],
   "source": [
    "add(333333,444444)"
   ]
  },
  {
   "cell_type": "code",
   "execution_count": 25,
   "id": "0f0c5c04",
   "metadata": {},
   "outputs": [],
   "source": [
    "def divv(num):\n",
    "    if num%2==0:\n",
    "        return True\n",
    "    else:\n",
    "        return False\n"
   ]
  },
  {
   "cell_type": "code",
   "execution_count": 27,
   "id": "5dd8fc27",
   "metadata": {},
   "outputs": [
    {
     "data": {
      "text/plain": [
       "False"
      ]
     },
     "execution_count": 27,
     "metadata": {},
     "output_type": "execute_result"
    }
   ],
   "source": [
    "divv(307)"
   ]
  },
  {
   "cell_type": "code",
   "execution_count": 28,
   "id": "8995af21",
   "metadata": {},
   "outputs": [],
   "source": [
    "call = lambda a:a%2==0"
   ]
  },
  {
   "cell_type": "code",
   "execution_count": 29,
   "id": "3fbebce2",
   "metadata": {},
   "outputs": [
    {
     "data": {
      "text/plain": [
       "False"
      ]
     },
     "execution_count": 29,
     "metadata": {},
     "output_type": "execute_result"
    }
   ],
   "source": [
    "call(2223)"
   ]
  },
  {
   "cell_type": "code",
   "execution_count": 34,
   "id": "51988b01",
   "metadata": {},
   "outputs": [],
   "source": [
    "def divv(num):\n",
    "    if num%2==0:\n",
    "        return (\"the num {} is even\".format(num))\n",
    "    else:\n",
    "        return (\"the num {} is odd\".format(num))\n"
   ]
  },
  {
   "cell_type": "code",
   "execution_count": 44,
   "id": "04485c8e",
   "metadata": {},
   "outputs": [],
   "source": [
    "lst = (1,2,3,4,5,6,7,8,9)"
   ]
  },
  {
   "cell_type": "code",
   "execution_count": 37,
   "id": "d164e4e2",
   "metadata": {},
   "outputs": [
    {
     "data": {
      "text/plain": [
       "['the num 1 is odd',\n",
       " 'the num 2 is even',\n",
       " 'the num 3 is odd',\n",
       " 'the num 4 is even',\n",
       " 'the num 5 is odd',\n",
       " 'the num 6 is even',\n",
       " 'the num 7 is odd',\n",
       " 'the num 8 is even',\n",
       " 'the num 9 is odd']"
      ]
     },
     "execution_count": 37,
     "metadata": {},
     "output_type": "execute_result"
    }
   ],
   "source": [
    "list(map(divv,lst))"
   ]
  },
  {
   "cell_type": "markdown",
   "id": "8b63b54f",
   "metadata": {},
   "source": [
    "# filter "
   ]
  },
  {
   "cell_type": "code",
   "execution_count": 39,
   "id": "cf65d959",
   "metadata": {},
   "outputs": [],
   "source": [
    "def divv(num):\n",
    "    if num%2==0:\n",
    "        return (\"the num {} is even\".format(num))"
   ]
  },
  {
   "cell_type": "code",
   "execution_count": 40,
   "id": "58752368",
   "metadata": {},
   "outputs": [
    {
     "data": {
      "text/plain": [
       "[2, 4, 6, 8]"
      ]
     },
     "execution_count": 40,
     "metadata": {},
     "output_type": "execute_result"
    }
   ],
   "source": [
    "list(filter(divv,lst))"
   ]
  },
  {
   "cell_type": "code",
   "execution_count": 46,
   "id": "9b0e0107",
   "metadata": {},
   "outputs": [
    {
     "data": {
      "text/plain": [
       "[2, 4, 6, 8]"
      ]
     },
     "execution_count": 46,
     "metadata": {},
     "output_type": "execute_result"
    }
   ],
   "source": [
    "list (filter(lambda num:num%2==0,lst))"
   ]
  },
  {
   "cell_type": "markdown",
   "id": "750ab7ee",
   "metadata": {},
   "source": [
    "\n",
    "LIST COMPREHENSION"
   ]
  },
  {
   "cell_type": "code",
   "execution_count": 56,
   "id": "077ad1e0",
   "metadata": {},
   "outputs": [],
   "source": [
    "lst1=[]\n",
    "def square(lst):\n",
    "    for i in lst:\n",
    "        lst1.append(i*i)\n",
    "    return lst1"
   ]
  },
  {
   "cell_type": "code",
   "execution_count": 57,
   "id": "457b80f3",
   "metadata": {},
   "outputs": [
    {
     "data": {
      "text/plain": [
       "[1, 4, 9, 16, 25, 36, 49, 64]"
      ]
     },
     "execution_count": 57,
     "metadata": {},
     "output_type": "execute_result"
    }
   ],
   "source": [
    "square([1,2,3,4,5,6,7,8])"
   ]
  },
  {
   "cell_type": "code",
   "execution_count": 58,
   "id": "ffc8e8c0",
   "metadata": {},
   "outputs": [],
   "source": [
    "lst=[2,3,4,5,6,7]"
   ]
  },
  {
   "cell_type": "code",
   "execution_count": 59,
   "id": "18853514",
   "metadata": {},
   "outputs": [
    {
     "data": {
      "text/plain": [
       "[4, 9, 16, 25, 36, 49]"
      ]
     },
     "execution_count": 59,
     "metadata": {},
     "output_type": "execute_result"
    }
   ],
   "source": [
    "#list comprehension \n",
    "\n",
    "[i*i for i in lst]"
   ]
  },
  {
   "cell_type": "code",
   "execution_count": null,
   "id": "518663d0",
   "metadata": {},
   "outputs": [],
   "source": []
  }
 ],
 "metadata": {
  "kernelspec": {
   "display_name": "Python 3",
   "language": "python",
   "name": "python3"
  },
  "language_info": {
   "codemirror_mode": {
    "name": "ipython",
    "version": 3
   },
   "file_extension": ".py",
   "mimetype": "text/x-python",
   "name": "python",
   "nbconvert_exporter": "python",
   "pygments_lexer": "ipython3",
   "version": "3.8.8"
  }
 },
 "nbformat": 4,
 "nbformat_minor": 5
}
