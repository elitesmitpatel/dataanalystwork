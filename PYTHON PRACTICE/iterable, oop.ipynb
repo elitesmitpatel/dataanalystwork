{
 "cells": [
  {
   "cell_type": "code",
   "execution_count": 1,
   "id": "662de2d1",
   "metadata": {},
   "outputs": [
    {
     "name": "stdout",
     "output_type": "stream",
     "text": [
      "1\n",
      "2\n",
      "3\n",
      "4\n",
      "5\n",
      "6\n",
      "7\n",
      "8\n"
     ]
    }
   ],
   "source": [
    "#iterable list \n",
    "\n",
    "a=[1,2,3,4,5,6,7,8]\n",
    "\n",
    "for i in a:\n",
    "    print(i)"
   ]
  },
  {
   "cell_type": "code",
   "execution_count": 2,
   "id": "ed74bdb4",
   "metadata": {},
   "outputs": [],
   "source": [
    "b=iter(a)"
   ]
  },
  {
   "cell_type": "code",
   "execution_count": 3,
   "id": "59c9170a",
   "metadata": {},
   "outputs": [
    {
     "data": {
      "text/plain": [
       "<list_iterator at 0x4bc6958>"
      ]
     },
     "execution_count": 3,
     "metadata": {},
     "output_type": "execute_result"
    }
   ],
   "source": [
    "b"
   ]
  },
  {
   "cell_type": "code",
   "execution_count": 4,
   "id": "22b507f0",
   "metadata": {},
   "outputs": [
    {
     "data": {
      "text/plain": [
       "1"
      ]
     },
     "execution_count": 4,
     "metadata": {},
     "output_type": "execute_result"
    }
   ],
   "source": [
    "next(b)"
   ]
  },
  {
   "cell_type": "code",
   "execution_count": 28,
   "id": "1bab383c",
   "metadata": {},
   "outputs": [
    {
     "name": "stdout",
     "output_type": "stream",
     "text": [
      "2\n",
      "3\n",
      "4\n",
      "5\n",
      "6\n",
      "7\n",
      "8\n"
     ]
    }
   ],
   "source": [
    "for i in b:\n",
    "    print(i)"
   ]
  },
  {
   "cell_type": "markdown",
   "id": "73eb3c0f",
   "metadata": {},
   "source": [
    "# this is where i learned how to use markdown"
   ]
  },
  {
   "cell_type": "markdown",
   "id": "01c8c447",
   "metadata": {},
   "source": [
    "## oop python "
   ]
  },
  {
   "cell_type": "code",
   "execution_count": 1,
   "id": "347c6505",
   "metadata": {},
   "outputs": [],
   "source": [
    "# edureka class class\n",
    "\n",
    "\n",
    "class Phone:\n",
    "    \n",
    "    def make_call(self):\n",
    "        \n",
    "        print('make call')\n",
    "    \n",
    "    def make_text(self):\n",
    "        print('make text')\n",
    "        "
   ]
  },
  {
   "cell_type": "code",
   "execution_count": 2,
   "id": "1568eb18",
   "metadata": {},
   "outputs": [],
   "source": [
    "P1= Phone()"
   ]
  },
  {
   "cell_type": "code",
   "execution_count": 3,
   "id": "54682895",
   "metadata": {},
   "outputs": [
    {
     "name": "stdout",
     "output_type": "stream",
     "text": [
      "make call\n"
     ]
    }
   ],
   "source": [
    "P1.make_call()"
   ]
  },
  {
   "cell_type": "code",
   "execution_count": 4,
   "id": "7e6e699e",
   "metadata": {},
   "outputs": [
    {
     "name": "stdout",
     "output_type": "stream",
     "text": [
      "make text\n"
     ]
    }
   ],
   "source": [
    "P1.make_text() "
   ]
  },
  {
   "cell_type": "code",
   "execution_count": 5,
   "id": "168a526b",
   "metadata": {},
   "outputs": [],
   "source": [
    "class Phone:\n",
    "    \n",
    "    def make_call(self):\n",
    "        \n",
    "        print('make call')\n",
    "    \n",
    "    def make_text(self):\n",
    "        print('make text')\n",
    "    def set_color(self,color):\n",
    "        self.color = color\n",
    "    def set_cost(self,cost):\n",
    "        self.cost = cost\n",
    "    def show_color(self):\n",
    "        return self.color\n",
    "    def show_cost(self):\n",
    "        return self.cost\n",
    "    \n",
    "        "
   ]
  },
  {
   "cell_type": "code",
   "execution_count": 6,
   "id": "764af849",
   "metadata": {},
   "outputs": [],
   "source": [
    "p2 = Phone()"
   ]
  },
  {
   "cell_type": "code",
   "execution_count": 7,
   "id": "51b826b9",
   "metadata": {},
   "outputs": [],
   "source": [
    "p2.set_color(\"red\")"
   ]
  },
  {
   "cell_type": "code",
   "execution_count": 8,
   "id": "a947d99d",
   "metadata": {},
   "outputs": [],
   "source": [
    "p2.set_cost(50000)"
   ]
  },
  {
   "cell_type": "code",
   "execution_count": 9,
   "id": "740aabcf",
   "metadata": {},
   "outputs": [
    {
     "data": {
      "text/plain": [
       "'red'"
      ]
     },
     "execution_count": 9,
     "metadata": {},
     "output_type": "execute_result"
    }
   ],
   "source": [
    "p2.show_color ()"
   ]
  },
  {
   "cell_type": "code",
   "execution_count": 10,
   "id": "d46ec88b",
   "metadata": {},
   "outputs": [
    {
     "data": {
      "text/plain": [
       "50000"
      ]
     },
     "execution_count": 10,
     "metadata": {},
     "output_type": "execute_result"
    }
   ],
   "source": [
    "p2.show_cost()"
   ]
  },
  {
   "cell_type": "markdown",
   "id": "56ffdc22",
   "metadata": {},
   "source": [
    "# constructor"
   ]
  },
  {
   "cell_type": "code",
   "execution_count": 5,
   "id": "dbc495c6",
   "metadata": {},
   "outputs": [],
   "source": [
    "class Employee:\n",
    "    def __init__ (self,name,age,salary,gender):\n",
    "        \n",
    "        self.name=name\n",
    "        self.age= age\n",
    "        self.salary=salary\n",
    "        self.gender=gender \n",
    "    \n",
    "    def show_employee(self):\n",
    "        print('employee name is ',self.name)\n",
    "        print('employeee age is ',self.age)\n",
    "        print('emloyee salary is',self.salary)\n",
    "        print('emloyee gender is',self.gender)\n",
    "        "
   ]
  },
  {
   "cell_type": "code",
   "execution_count": 6,
   "id": "7d610af9",
   "metadata": {},
   "outputs": [],
   "source": [
    "e1=Employee('smit',25,50000,'male') "
   ]
  },
  {
   "cell_type": "code",
   "execution_count": 7,
   "id": "3d639afd",
   "metadata": {},
   "outputs": [
    {
     "name": "stdout",
     "output_type": "stream",
     "text": [
      "employee name is  smit\n",
      "employeee age is  25\n",
      "emloyee salary is 50000\n",
      "emloyee gender is male\n"
     ]
    }
   ],
   "source": [
    "e1.show_employee()"
   ]
  },
  {
   "cell_type": "code",
   "execution_count": null,
   "id": "e0e2271f",
   "metadata": {},
   "outputs": [],
   "source": []
  }
 ],
 "metadata": {
  "kernelspec": {
   "display_name": "Python 3",
   "language": "python",
   "name": "python3"
  },
  "language_info": {
   "codemirror_mode": {
    "name": "ipython",
    "version": 3
   },
   "file_extension": ".py",
   "mimetype": "text/x-python",
   "name": "python",
   "nbconvert_exporter": "python",
   "pygments_lexer": "ipython3",
   "version": "3.8.8"
  }
 },
 "nbformat": 4,
 "nbformat_minor": 5
}
